{
 "metadata": {
  "language": "lua",
  "name": "",
  "signature": "sha256:5e408ccc0d4212482d48820fe17eb9457911927d3bfe7b2164c41f17e9f6607e"
 },
 "nbformat": 3,
 "nbformat_minor": 0,
 "worksheets": [
  {
   "cells": [
    {
     "cell_type": "code",
     "collapsed": false,
     "input": [
      "s = torch.Tensor(5,5):fill(0)\n",
      "s[{1,3}] = 1\n",
      "d1 = {\n",
      "    data = s ,\n",
      "    label = {1,-1,-1,-1}\n",
      "}\n",
      "print(d1.data)\n",
      "help(torch.save)\n",
      "torch.save('d1.dat', d1)"
     ],
     "language": "python",
     "metadata": {},
     "outputs": [
      {
       "metadata": {},
       "output_type": "pyout",
       "prompt_number": 18,
       "text": [
        " 0  0  1  0  0\n",
        " 0  0  0  0  0\n",
        " 0  0  0  0  0\n",
        " 0  0  0  0  0\n",
        " 0  0  0  0  0\n",
        "[torch.DoubleTensor of dimension 5x5]\n",
        "\n",
        "\n",
        "+++++++++++++++++++++++++++++++++++++++++++++++++++++++++++++++++++++\n",
        "\u001b[1;35mtorch.save(filename, object [, format])\u001b[0m\n",
        "\n",
        "\n",
        "Writes\u001b[0;32m object \u001b[0minto a file named\u001b[0;32m filename \u001b[0m. The\u001b[0;32m format \u001b[0mcan be set\n",
        "to\u001b[0;32m ascii \u001b[0mor\u001b[0;32m binary \u001b[0m(default is binary). Binary format is platform\n",
        "dependent, but typically more compact and faster to read/write. The ASCII\n",
        "format is platform-independent, and should be used to share data structures\n",
        "across platforms.\n",
        "\u001b[0;36m\u001b[0;32m -- arbitrary object:\n",
        "obj = {\n",
        "   mat = torch.randn(10,10),\n",
        "   name = '10',\n",
        "   test = {\n",
        "      entry = 1\n",
        "   }\n",
        "}\n",
        "-- save to disk:\n",
        "torch.save('test.dat', obj) \u001b[0m\u001b[0m\t\n",
        "+++++++++++++++++++++++++++++++++++++++++++++++++++++++++++++++++++++\t\n"
       ]
      }
     ],
     "prompt_number": 18
    },
    {
     "cell_type": "code",
     "collapsed": false,
     "input": [
      "d = torch.load('d1.dat')\n",
      "print(d.data)"
     ],
     "language": "python",
     "metadata": {},
     "outputs": [
      {
       "metadata": {},
       "output_type": "pyout",
       "prompt_number": 17,
       "text": [
        " 0  0  1  0  0\n",
        " 0  0  0  0  0\n",
        " 0  0  0  0  0\n",
        " 0  0  0  0  0\n",
        " 0  0  0  0  0\n",
        "[torch.DoubleTensor of dimension 5x5]\n",
        "\n"
       ]
      }
     ],
     "prompt_number": 17
    },
    {
     "cell_type": "code",
     "collapsed": false,
     "input": [
      "d1 = torch.Tensor({1,-1,-1,1,-1,-1,-1,1,-1,1,-1,-1,1,1,1,-1,-1,1,-1,1,-1,-1,1,-1,1,-1})\n",
      "l1 = torch.Tensor({1,-1,-1,-1,-1,-1,-1,-1,-1,-1,-1,-1,-1,-1,-1,-1,-1,-1,-1,-1,-1,-1,-1,-1,-1,-1})\n",
      "d2 = torch.Tensor({1,-1,1,1,1,-1,-1,1,-1,-1,1,-1,1,1,1,-1,-1,1,-1,-1,1,-1,1,1,1,-1})\n",
      "l2 = torch.Tensor({-1,1,-1,-1,-1,-1,-1,-1,-1,-1,-1,-1,-1,-1,-1,-1,-1,-1,-1,-1,-1,-1,-1,-1,-1,-1})\n",
      "d3 = torch.Tensor({1,-1,1,1,1,1,1,-1,-1,-1,-1,1,-1,-1,-1,-1,1,-1,-1,-1,-1,-1,1,1,1,1})\n",
      "l3 = torch.Tensor({-1,-1,1,-1,-1,-1,-1,-1,-1,-1,-1,-1,-1,-1,-1,-1,-1,-1,-1,-1,-1,-1,-1,-1,-1,-1})\n",
      "d4 = torch.Tensor({1,1,1,1,-1,-1,1,-1,-1,1,-1,1,-1,-1,-1,1,1,-1,-1,1,-1,1,1,1,-1,-1})\n",
      "l4 = torch.Tensor({-1,-1,-1,1,-1,-1,-1,-1,-1,-1,-1,-1,-1,-1,-1,-1,-1,-1,-1,-1,-1,-1,-1,-1,-1,-1})\n",
      "d5 = torch.Tensor({1,1,1,1,1,1,1,-1,-1,-1,-1,1,1,1,1,1,1,-1,-1,-1,-1,1,1,1,1,1})\n",
      "l5 = torch.Tensor({-1,-1,-1,-1,1,-1,-1,-1,-1,-1,-1,-1,-1,-1,-1,-1,-1,-1,-1,-1,-1,-1,-1,-1,-1,-1})\n",
      "d6 = torch.Tensor({1,1,1,1,1,1,1,-1,-1,-1,-1,1,1,1,1,1,1,-1,-1,-1,-1,1,-1,-1,-1,-1})\n",
      "l6 = torch.Tensor({-1,-1,-1,-1,-1,1,-1,-1,-1,-1,-1,-1,-1,-1,-1,-1,-1,-1,-1,-1,-1,-1,-1,-1,-1,-1})\n",
      "d7 = torch.Tensor({1,-1,1,1,1,-1,1,-1,-1,-1,-1,1,-1,1,1,1,1,-1,-1,-1,1,-1,1,1,1,1})\n",
      "l7 = torch.Tensor({-1,-1,-1,-1,-1,-1,1,-1,-1,-1,-1,-1,-1,-1,-1,-1,-1,-1,-1,-1,-1,-1,-1,-1,-1,-1})\n",
      "d8 = torch.Tensor({1,1,-1,-1,-1,1,1,-1,-1,-1,1,1,1,1,1,1,1,-1,-1,-1,1,1,-1,-1,-1,1})\n",
      "l8 = torch.Tensor({-1,-1,-1,-1,-1,-1,-1,1,-1,-1,-1,-1,-1,-1,-1,-1,-1,-1,-1,-1,-1,-1,-1,-1,-1,-1})\n",
      "d9 = torch.Tensor({1,-1,-1,1,-1,-1,-1,-1,1,-1,-1,-1,-1,1,-1,-1,-1,-1,1,-1,-1,-1,-1,1,-1,-1})\n",
      "l9 = torch.Tensor({-1,-1,-1,-1,-1,-1,-1,-1,1,-1,-1,-1,-1,-1,-1,-1,-1,-1,-1,-1,-1,-1,-1,-1,-1,-1})\n",
      "d10 = torch.Tensor({1,-1,-1,-1,1,-1,-1,-1,-1,1,-1,-1,1,-1,1,-1,-1,1,-1,1,-1,-1,-1,1,-1,-1})\n",
      "l10 = torch.Tensor({-1,-1,-1,-1,-1,-1,-1,-1,-1,1,-1,-1,-1,-1,-1,-1,-1,-1,-1,-1,-1,-1,-1,-1,-1,-1})\n",
      "d11 = torch.Tensor({1,1,-1,-1,1,-1,1,-1,1,-1,-1,1,1,-1,-1,-1,1,-1,1,-1,-1,1,-1,-1,1,-1})\n",
      "l11 = torch.Tensor({-1,-1,-1,-1,-1,-1,-1,-1,-1,-1,1,-1,-1,-1,-1,-1,-1,-1,-1,-1,-1,-1,-1,-1,-1,-1})\n",
      "d12 = torch.Tensor({1,-1,1,-1,-1,-1,-1,1,-1,-1,-1,-1,1,-1,-1,-1,-1,1,-1,-1,-1,-1,1,1,1,1})\n",
      "l12 = torch.Tensor({-1,-1,-1,-1,-1,-1,-1,-1,-1,-1,-1,1,-1,-1,-1,-1,-1,-1,-1,-1,-1,-1,-1,-1,-1,-1})\n",
      "d13 = torch.Tensor({1,1,-1,-1,-1,1,1,1,-1,1,1,1,-1,1,-1,1,1,-1,-1,-1,1,1,-1,-1,-1,1})\n",
      "l13 = torch.Tensor({-1,-1,-1,-1,-1,-1,-1,-1,-1,-1,-1,-1,1,-1,-1,-1,-1,-1,-1,-1,-1,-1,-1,-1,-1,-1})\n",
      "d14 = torch.Tensor({1,1,-1,-1,-1,1,1,1,-1,-1,1,1,-1,1,-1,1,1,-1,-1,1,1,1,-1,-1,-1,1})\n",
      "l14 = torch.Tensor({-1,-1,-1,-1,-1,-1,-1,-1,-1,-1,-1,-1,-1,1,-1,-1,-1,-1,-1,-1,-1,-1,-1,-1,-1,-1})\n",
      "d15 = torch.Tensor({1,-1,1,1,-1,-1,1,-1,-1,1,-1,1,-1,-1,1,-1,1,-1,-1,1,-1,-1,1,1,-1,-1})\n",
      "l15 = torch.Tensor({-1,-1,-1,-1,-1,-1,-1,-1,-1,-1,-1,-1,-1,-1,1,-1,-1,-1,-1,-1,-1,-1,-1,-1,-1,-1})\n",
      "d16 = torch.Tensor({1,-1,1,1,1,-1,-1,1,-1,1,-1,-1,1,1,1,-1,-1,1,-1,-1,-1,-1,1,-1,-1,-1})\n",
      "l16 = torch.Tensor({-1,-1,-1,-1,-1,-1,-1,-1,-1,-1,-1,-1,-1,-1,-1,1,-1,-1,-1,-1,-1,-1,-1,-1,-1,-1})\n",
      "d17 = torch.Tensor({1,-1,1,1,-1,-1,1,-1,-1,1,-1,1,-1,-1,1,-1,1,-1,1,1,-1,-1,1,1,1,-1})\n",
      "l17 = torch.Tensor({-1,-1,-1,-1,-1,-1,-1,-1,-1,-1,-1,-1,-1,-1,-1,-1,1,-1,-1,-1,-1,-1,-1,-1,-1,-1})\n",
      "d18 = torch.Tensor({1,1,1,1,-1,-1,1,-1,-1,1,-1,1,1,1,-1,-1,1,-1,1,-1,-1,1,-1,-1,1,-1})\n",
      "l18 = torch.Tensor({-1,-1,-1,-1,-1,-1,-1,-1,-1,-1,-1,-1,-1,-1,-1,-1,-1,1,-1,-1,-1,-1,-1,-1,-1,-1})\n",
      "d19 = torch.Tensor({1,1,1,1,1,1,1,-1,-1,-1,-1,1,1,1,1,1,-1,-1,-1,-1,1,1,1,1,1,1})\n",
      "l19 = torch.Tensor({-1,-1,-1,-1,-1,-1,-1,-1,-1,-1,-1,-1,-1,-1,-1,-1,-1,-1,1,-1,-1,-1,-1,-1,-1,-1})\n",
      "d20 = torch.Tensor({1,1,1,1,1,1,-1,-1,1,-1,-1,-1,-1,1,-1,-1,-1,-1,1,-1,-1,-1,-1,1,-1,-1})\n",
      "l20 = torch.Tensor({-1,-1,-1,-1,-1,-1,-1,-1,-1,-1,-1,-1,-1,-1,-1,-1,-1,-1,-1,1,-1,-1,-1,-1,-1,-1})\n",
      "d21 = torch.Tensor({1,1,-1,-1,-1,1,1,-1,-1,-1,1,1,-1,-1,-1,1,1,-1,-1,-1,1,-1,1,1,1,-1})\n",
      "l21 = torch.Tensor({-1,-1,-1,-1,-1,-1,-1,-1,-1,-1,-1,-1,-1,-1,-1,-1,-1,-1,-1,-1,1,-1,-1,-1,-1,-1})\n",
      "d22 = torch.Tensor({1,1,-1,-1,-1,1,-1,1,-1,1,-1,-1,1,-1,1,-1,-1,-1,1,-1,-1,-1,-1,1,-1,-1})\n",
      "l22 = torch.Tensor({-1,-1,-1,-1,-1,-1,-1,-1,-1,-1,-1,-1,-1,-1,-1,-1,-1,-1,-1,-1,-1,1,-1,-1,-1,-1})\n",
      "d23 = torch.Tensor({1,1,-1,-1,-1,1,1,-1,1,-1,-1,-1,1,1,1,-1,-1,1,1,1,-1,-1,-1,1,-1,-1})\n",
      "l23 = torch.Tensor({-1,-1,-1,-1,-1,-1,-1,-1,-1,-1,-1,-1,-1,-1,-1,-1,-1,-1,-1,-1,-1,-1,1,-1,-1,-1})\n",
      "d24 = torch.Tensor({1,1,-1,-1,-1,1,-1,1,-1,1,-1,-1,-1,1,-1,-1,-1,1,-1,1,-1,1,-1,-1,-1,1})\n",
      "l24 = torch.Tensor({-1,-1,-1,-1,-1,-1,-1,-1,-1,-1,-1,-1,-1,-1,-1,-1,-1,-1,-1,-1,-1,-1,-1,1,-1,-1})\n",
      "d25 = torch.Tensor({1,1,-1,-1,-1,1,-1,1,-1,1,-1,-1,-1,1,-1,-1,-1,-1,1,-1,-1,-1,-1,1,-1,-1})\n",
      "l25 = torch.Tensor({-1,-1,-1,-1,-1,-1,-1,-1,-1,-1,-1,-1,-1,-1,-1,-1,-1,-1,-1,-1,-1,-1,-1,-1,1,-1})\n",
      "d26 = torch.Tensor({1,1,1,1,1,1,-1,-1,-1,1,-1,-1,-1,1,-1,-1,-1,1,-1,-1,-1,1,1,1,1,1})\n",
      "l26 = torch.Tensor({-1,-1,-1,-1,-1,-1,-1,-1,-1,-1,-1,-1,-1,-1,-1,-1,-1,-1,-1,-1,-1,-1,-1,-1,-1,1})\n",
      "\n",
      "trainData = {x,y}\n",
      "trainData.x = {}\n",
      "trainData.y = {}\n",
      "--for i = 1, 26 do:\n",
      "--    trainData.x[i] = ('d' .. i)\n",
      "--    trainData.y[i] = ('l' .. i)\n",
      "--end\n",
      "trainData.x[1] = (d1)\n",
      "trainData.y[1] = (l1)\n",
      "trainData.x[2] = (d2)\n",
      "trainData.y[2] = (l2)\n",
      "trainData.x[3] = (d3)\n",
      "trainData.y[3] = (l3)\n",
      "trainData.x[4] = (d4)\n",
      "trainData.y[4] = (l4)\n",
      "trainData.x[5] = (d5)\n",
      "trainData.y[5] = (l5)\n",
      "trainData.x[6] = (d6)\n",
      "trainData.y[6] = (l6)\n",
      "trainData.x[7] = (d7)\n",
      "trainData.y[7] = (l7)\n",
      "trainData.x[8] = (d8)\n",
      "trainData.y[8] = (l8)\n",
      "trainData.x[9] = (d9)\n",
      "trainData.y[9] = (l9)\n",
      "trainData.x[10] = (d10)\n",
      "trainData.y[10] = (l10)\n",
      "trainData.x[11] = (d11)\n",
      "trainData.y[11] = (l11)\n",
      "trainData.x[12] = (d12)\n",
      "trainData.y[12] = (l12)\n",
      "trainData.x[13] = (d13)\n",
      "trainData.y[13] = (l13)\n",
      "trainData.x[14] = (d14)\n",
      "trainData.y[14] = (l14)\n",
      "trainData.x[15] = (d15)\n",
      "trainData.y[15] = (l15)\n",
      "trainData.x[16] = (d16)\n",
      "trainData.y[16] = (l16)\n",
      "trainData.x[17] = (d17)\n",
      "trainData.y[17] = (l17)\n",
      "trainData.x[18] = (d18)\n",
      "trainData.y[18] = (l18)\n",
      "trainData.x[19] = (d19)\n",
      "trainData.y[19] = (l19)\n",
      "trainData.x[20] = (d20)\n",
      "trainData.y[20] = (l20)\n",
      "trainData.x[21] = (d21)\n",
      "trainData.y[21] = (l21)\n",
      "trainData.x[22] = (d22)\n",
      "trainData.y[22] = (l22)\n",
      "trainData.x[23] = (d23)\n",
      "trainData.y[23] = (l23)\n",
      "trainData.x[24] = (d24)\n",
      "trainData.y[24] = (l24)\n",
      "trainData.x[25] = (d25)\n",
      "trainData.y[25] = (l25)\n",
      "trainData.x[26] = (d26)\n",
      "trainData.y[26] = (l26)"
     ],
     "language": "python",
     "metadata": {},
     "outputs": [
      {
       "ename": "bad argument #3 to '?' (number expected, got table)\nstack traceback:\n\t[C]: at 0x7fcc749a9eb0\n\t[C]: in function '__newindex'\n\t[string \"d1 = {1,-1,-1,1,-1,-1,-1,1,-1,1,-1,-1,1,1,1,-...\"]:62: in main chunk\n\t[C]: in function 'xpcall'\n\t...mhn/Programs/torch/install/share/lua/5.1/itorch/main.lua:174: in function <...mhn/Programs/torch/install/share/lua/5.1/itorch/main.lua:140>\n\t...mhn/Programs/torch/install/share/lua/5.1/lzmq/poller.lua:75: in function 'poll'\n\t.../Programs/torch/install/share/lua/5.1/lzmq/impl/loop.lua:307: in function 'poll'\n\t.../Programs/torch/install/share/lua/5.1/lzmq/impl/loop.lua:325: in function 'sleep_ex'\n\t.../Programs/torch/install/share/lua/5.1/lzmq/impl/loop.lua:370: in function 'start'\n\t...mhn/Programs/torch/install/share/lua/5.1/itorch/main.lua:341: in main chunk\n\t[C]: in function 'require'\n\t(command line):1: in main chunk\n\t[C]: at 0x00405820",
       "evalue": "",
       "output_type": "pyerr",
       "traceback": [
        "bad argument #3 to '?' (number expected, got table)\nstack traceback:\n\t[C]: at 0x7fcc749a9eb0\n\t[C]: in function '__newindex'\n\t[string \"d1 = {1,-1,-1,1,-1,-1,-1,1,-1,1,-1,-1,1,1,1,-...\"]:62: in main chunk\n\t[C]: in function 'xpcall'\n\t...mhn/Programs/torch/install/share/lua/5.1/itorch/main.lua:174: in function <...mhn/Programs/torch/install/share/lua/5.1/itorch/main.lua:140>\n\t...mhn/Programs/torch/install/share/lua/5.1/lzmq/poller.lua:75: in function 'poll'\n\t.../Programs/torch/install/share/lua/5.1/lzmq/impl/loop.lua:307: in function 'poll'\n\t.../Programs/torch/install/share/lua/5.1/lzmq/impl/loop.lua:325: in function 'sleep_ex'\n\t.../Programs/torch/install/share/lua/5.1/lzmq/impl/loop.lua:370: in function 'start'\n\t...mhn/Programs/torch/install/share/lua/5.1/itorch/main.lua:341: in main chunk\n\t[C]: in function 'require'\n\t(command line):1: in main chunk\n\t[C]: at 0x00405820"
       ]
      }
     ],
     "prompt_number": 16
    },
    {
     "cell_type": "code",
     "collapsed": false,
     "input": [
      "torch.save('data.dat', trainData)\n",
      "print('successful')"
     ],
     "language": "python",
     "metadata": {},
     "outputs": [
      {
       "metadata": {},
       "output_type": "pyout",
       "prompt_number": 6,
       "text": [
        "successful\t\n"
       ]
      }
     ],
     "prompt_number": 6
    },
    {
     "cell_type": "code",
     "collapsed": false,
     "input": [
      "trainData = torch.load('data.dat')"
     ],
     "language": "python",
     "metadata": {},
     "outputs": [],
     "prompt_number": 75
    },
    {
     "cell_type": "code",
     "collapsed": false,
     "input": [
      "print(trainData.y[1]:size())"
     ],
     "language": "python",
     "metadata": {},
     "outputs": [
      {
       "metadata": {},
       "output_type": "pyout",
       "prompt_number": 80,
       "text": [
        "\n",
        " 26\n",
        "[torch.LongStorage of size 1]\n",
        "\n"
       ]
      }
     ],
     "prompt_number": 80
    },
    {
     "cell_type": "code",
     "collapsed": false,
     "input": [
      "print(d1:reshape(5,5))"
     ],
     "language": "python",
     "metadata": {},
     "outputs": [
      {
       "metadata": {},
       "output_type": "pyout",
       "prompt_number": 3,
       "text": [
        "-1 -1  1 -1 -1\n",
        "-1  1 -1  1 -1\n",
        "-1  1  1  1 -1\n",
        "-1  1 -1  1 -1\n",
        "-1  1 -1  1 -1\n",
        "[torch.DoubleTensor of dimension 5x5]\n",
        "\n"
       ]
      }
     ],
     "prompt_number": 3
    },
    {
     "cell_type": "code",
     "collapsed": false,
     "input": [
      "print(trainData.x[1]:size())"
     ],
     "language": "python",
     "metadata": {},
     "outputs": [
      {
       "metadata": {},
       "output_type": "pyout",
       "prompt_number": 3,
       "text": [
        "\n",
        " 25\n",
        "[torch.LongStorage of size 1]\n",
        "\n"
       ]
      }
     ],
     "prompt_number": 3
    },
    {
     "cell_type": "code",
     "collapsed": false,
     "input": [
      "trainData = {x, y}\n",
      "trainData.x = {}\n",
      "trainData.y = {}\n",
      "trainData.x = {\n",
      "torch.Tensor({1,-1,-1,1,-1,-1,-1,1,-1,1,-1,-1,1,1,1,-1,-1,1,-1,1,-1,-1,1,-1,1,-1}),\n",
      "torch.Tensor({1,-1,1,1,1,-1,-1,1,-1,-1,1,-1,1,1,1,-1,-1,1,-1,-1,1,-1,1,1,1,-1}),\n",
      "torch.Tensor({1,-1,1,1,1,1,1,-1,-1,-1,-1,1,-1,-1,-1,-1,1,-1,-1,-1,-1,-1,1,1,1,1}),\n",
      "torch.Tensor({1,1,1,1,-1,-1,1,-1,-1,1,-1,1,-1,-1,-1,1,1,-1,-1,1,-1,1,1,1,-1,-1}),\n",
      "torch.Tensor({1,1,1,1,1,1,1,-1,-1,-1,-1,1,1,1,1,1,1,-1,-1,-1,-1,1,1,1,1,1}),\n",
      "torch.Tensor({1,1,1,1,1,1,1,-1,-1,-1,-1,1,1,1,1,1,1,-1,-1,-1,-1,1,-1,-1,-1,-1}),\n",
      "torch.Tensor({1,-1,1,1,1,-1,1,-1,-1,-1,-1,1,-1,1,1,1,1,-1,-1,-1,1,-1,1,1,1,1}),\n",
      "torch.Tensor({1,1,-1,-1,-1,1,1,-1,-1,-1,1,1,1,1,1,1,1,-1,-1,-1,1,1,-1,-1,-1,1}),\n",
      "torch.Tensor({1,-1,-1,1,-1,-1,-1,-1,1,-1,-1,-1,-1,1,-1,-1,-1,-1,1,-1,-1,-1,-1,1,-1,-1}),\n",
      "torch.Tensor({1,-1,-1,-1,1,-1,-1,-1,-1,1,-1,-1,1,-1,1,-1,-1,1,-1,1,-1,-1,-1,1,-1,-1}),\n",
      "torch.Tensor({1,1,-1,-1,1,-1,1,-1,1,-1,-1,1,1,-1,-1,-1,1,-1,1,-1,-1,1,-1,-1,1,-1}),\n",
      "torch.Tensor({1,-1,1,-1,-1,-1,-1,1,-1,-1,-1,-1,1,-1,-1,-1,-1,1,-1,-1,-1,-1,1,1,1,1}),\n",
      "torch.Tensor({1,1,-1,-1,-1,1,1,1,-1,1,1,1,-1,1,-1,1,1,-1,-1,-1,1,1,-1,-1,-1,1}),\n",
      "torch.Tensor({1,1,-1,-1,-1,1,1,1,-1,-1,1,1,-1,1,-1,1,1,-1,-1,1,1,1,-1,-1,-1,1}),\n",
      "torch.Tensor({1,-1,1,1,-1,-1,1,-1,-1,1,-1,1,-1,-1,1,-1,1,-1,-1,1,-1,-1,1,1,-1,-1}),\n",
      "torch.Tensor({1,-1,1,1,1,-1,-1,1,-1,1,-1,-1,1,1,1,-1,-1,1,-1,-1,-1,-1,1,-1,-1,-1}),\n",
      "torch.Tensor({1,-1,1,1,-1,-1,1,-1,-1,1,-1,1,-1,-1,1,-1,1,-1,1,1,-1,-1,1,1,1,-1}),\n",
      "torch.Tensor({1,1,1,1,-1,-1,1,-1,-1,1,-1,1,1,1,-1,-1,1,-1,1,-1,-1,1,-1,-1,1,-1}),\n",
      "torch.Tensor({1,1,1,1,1,1,1,-1,-1,-1,-1,1,1,1,1,1,-1,-1,-1,-1,1,1,1,1,1,1}),\n",
      "torch.Tensor({1,1,1,1,1,1,-1,-1,1,-1,-1,-1,-1,1,-1,-1,-1,-1,1,-1,-1,-1,-1,1,-1,-1}),\n",
      "torch.Tensor({1,1,-1,-1,-1,1,1,-1,-1,-1,1,1,-1,-1,-1,1,1,-1,-1,-1,1,-1,1,1,1,-1}),\n",
      "torch.Tensor({1,1,-1,-1,-1,1,-1,1,-1,1,-1,-1,1,-1,1,-1,-1,-1,1,-1,-1,-1,-1,1,-1,-1}),\n",
      "torch.Tensor({1,1,-1,-1,-1,1,1,-1,1,-1,-1,-1,1,1,1,-1,-1,1,1,1,-1,-1,-1,1,-1,-1}),\n",
      "torch.Tensor({1,1,-1,-1,-1,1,-1,1,-1,1,-1,-1,-1,1,-1,-1,-1,1,-1,1,-1,1,-1,-1,-1,1}),\n",
      "torch.Tensor({1,1,-1,-1,-1,1,-1,1,-1,1,-1,-1,-1,1,-1,-1,-1,-1,1,-1,-1,-1,-1,1,-1,-1}),\n",
      "torch.Tensor({1,1,1,1,1,1,-1,-1,-1,1,-1,-1,-1,1,-1,-1,-1,1,-1,-1,-1,1,1,1,1,1}),\n",
      "torch.Tensor({-1,-1,1,-1,-1,-1,1,-1,1,-1,1,1,1,1,1,-1,1,-1,1,-1,-1,1,-1,1,-1})\n",
      "}\n",
      "\n",
      "trainData.y = {\n",
      "    torch.Tensor({1,-1,-1,-1,-1,-1,-1,-1,-1,-1,-1,-1,-1,-1,-1,-1,-1,-1,-1,-1,-1,-1,-1,-1,-1,-1}),\n",
      "    torch.Tensor({-1,1,-1,-1,-1,-1,-1,-1,-1,-1,-1,-1,-1,-1,-1,-1,-1,-1,-1,-1,-1,-1,-1,-1,-1,-1}),\n",
      "    torch.Tensor({-1,-1,1,-1,-1,-1,-1,-1,-1,-1,-1,-1,-1,-1,-1,-1,-1,-1,-1,-1,-1,-1,-1,-1,-1,-1}),\n",
      "    torch.Tensor({-1,-1,-1,1,-1,-1,-1,-1,-1,-1,-1,-1,-1,-1,-1,-1,-1,-1,-1,-1,-1,-1,-1,-1,-1,-1}),\n",
      "    torch.Tensor({-1,-1,-1,-1,1,-1,-1,-1,-1,-1,-1,-1,-1,-1,-1,-1,-1,-1,-1,-1,-1,-1,-1,-1,-1,-1}),\n",
      "    torch.Tensor({-1,-1,-1,-1,-1,1,-1,-1,-1,-1,-1,-1,-1,-1,-1,-1,-1,-1,-1,-1,-1,-1,-1,-1,-1,-1}),\n",
      "    torch.Tensor({-1,-1,-1,-1,-1,-1,1,-1,-1,-1,-1,-1,-1,-1,-1,-1,-1,-1,-1,-1,-1,-1,-1,-1,-1,-1}),\n",
      "    torch.Tensor({-1,-1,-1,-1,-1,-1,-1,1,-1,-1,-1,-1,-1,-1,-1,-1,-1,-1,-1,-1,-1,-1,-1,-1,-1,-1}),\n",
      "    torch.Tensor({-1,-1,-1,-1,-1,-1,-1,-1,1,-1,-1,-1,-1,-1,-1,-1,-1,-1,-1,-1,-1,-1,-1,-1,-1,-1}),\n",
      "    torch.Tensor({-1,-1,-1,-1,-1,-1,-1,-1,-1,1,-1,-1,-1,-1,-1,-1,-1,-1,-1,-1,-1,-1,-1,-1,-1,-1}),\n",
      "    torch.Tensor({-1,-1,-1,-1,-1,-1,-1,-1,-1,-1,1,-1,-1,-1,-1,-1,-1,-1,-1,-1,-1,-1,-1,-1,-1,-1}),\n",
      "    torch.Tensor({-1,-1,-1,-1,-1,-1,-1,-1,-1,-1,-1,1,-1,-1,-1,-1,-1,-1,-1,-1,-1,-1,-1,-1,-1,-1}),\n",
      "    torch.Tensor({-1,-1,-1,-1,-1,-1,-1,-1,-1,-1,-1,-1,1,-1,-1,-1,-1,-1,-1,-1,-1,-1,-1,-1,-1,-1}),\n",
      "    torch.Tensor({-1,-1,-1,-1,-1,-1,-1,-1,-1,-1,-1,-1,-1,1,-1,-1,-1,-1,-1,-1,-1,-1,-1,-1,-1,-1}),\n",
      "    torch.Tensor({-1,-1,-1,-1,-1,-1,-1,-1,-1,-1,-1,-1,-1,-1,1,-1,-1,-1,-1,-1,-1,-1,-1,-1,-1,-1}),\n",
      "    torch.Tensor({-1,-1,-1,-1,-1,-1,-1,-1,-1,-1,-1,-1,-1,-1,-1,1,-1,-1,-1,-1,-1,-1,-1,-1,-1,-1}),\n",
      "    torch.Tensor({-1,-1,-1,-1,-1,-1,-1,-1,-1,-1,-1,-1,-1,-1,-1,-1,1,-1,-1,-1,-1,-1,-1,-1,-1,-1}),\n",
      "    torch.Tensor({-1,-1,-1,-1,-1,-1,-1,-1,-1,-1,-1,-1,-1,-1,-1,-1,-1,1,-1,-1,-1,-1,-1,-1,-1,-1}),\n",
      "    torch.Tensor({-1,-1,-1,-1,-1,-1,-1,-1,-1,-1,-1,-1,-1,-1,-1,-1,-1,-1,1,-1,-1,-1,-1,-1,-1,-1}),\n",
      "    torch.Tensor({-1,-1,-1,-1,-1,-1,-1,-1,-1,-1,-1,-1,-1,-1,-1,-1,-1,-1,-1,1,-1,-1,-1,-1,-1,-1}),\n",
      "    torch.Tensor({-1,-1,-1,-1,-1,-1,-1,-1,-1,-1,-1,-1,-1,-1,-1,-1,-1,-1,-1,-1,1,-1,-1,-1,-1,-1}),\n",
      "    torch.Tensor({-1,-1,-1,-1,-1,-1,-1,-1,-1,-1,-1,-1,-1,-1,-1,-1,-1,-1,-1,-1,-1,1,-1,-1,-1,-1}),\n",
      "    torch.Tensor({-1,-1,-1,-1,-1,-1,-1,-1,-1,-1,-1,-1,-1,-1,-1,-1,-1,-1,-1,-1,-1,-1,1,-1,-1,-1}),\n",
      "    torch.Tensor({-1,-1,-1,-1,-1,-1,-1,-1,-1,-1,-1,-1,-1,-1,-1,-1,-1,-1,-1,-1,-1,-1,-1,1,-1,-1}),\n",
      "    torch.Tensor({-1,-1,-1,-1,-1,-1,-1,-1,-1,-1,-1,-1,-1,-1,-1,-1,-1,-1,-1,-1,-1,-1,-1,-1,1,-1}),\n",
      "    torch.Tensor({-1,-1,-1,-1,-1,-1,-1,-1,-1,-1,-1,-1,-1,-1,-1,-1,-1,-1,-1,-1,-1,-1,-1,-1,-1,1}),\n",
      "    torch.Tensor({1,-1,-1,-1,-1,-1,-1,-1,-1,-1,-1,-1,-1,-1,-1,-1,-1,-1,-1,-1,-1,-1,-1,-1,-1,-1})\n",
      "}"
     ],
     "language": "python",
     "metadata": {},
     "outputs": [
      {
       "ename": "element at index 1 is not a number\nstack traceback:\n\t[C]: at 0x7fcc749a9fa0\n\t[C]: in function 'LongStorage'\n\t[string \"trainData = {x, y}...\"]:32: in main chunk\n\t[C]: in function 'xpcall'\n\t...mhn/Programs/torch/install/share/lua/5.1/itorch/main.lua:174: in function <...mhn/Programs/torch/install/share/lua/5.1/itorch/main.lua:140>\n\t...mhn/Programs/torch/install/share/lua/5.1/lzmq/poller.lua:75: in function 'poll'\n\t.../Programs/torch/install/share/lua/5.1/lzmq/impl/loop.lua:307: in function 'poll'\n\t.../Programs/torch/install/share/lua/5.1/lzmq/impl/loop.lua:325: in function 'sleep_ex'\n\t.../Programs/torch/install/share/lua/5.1/lzmq/impl/loop.lua:370: in function 'start'\n\t...mhn/Programs/torch/install/share/lua/5.1/itorch/main.lua:341: in main chunk\n\t[C]: in function 'require'\n\t(command line):1: in main chunk\n\t[C]: at 0x00405820",
       "evalue": "",
       "output_type": "pyerr",
       "traceback": [
        "element at index 1 is not a number\nstack traceback:\n\t[C]: at 0x7fcc749a9fa0\n\t[C]: in function 'LongStorage'\n\t[string \"trainData = {x, y}...\"]:32: in main chunk\n\t[C]: in function 'xpcall'\n\t...mhn/Programs/torch/install/share/lua/5.1/itorch/main.lua:174: in function <...mhn/Programs/torch/install/share/lua/5.1/itorch/main.lua:140>\n\t...mhn/Programs/torch/install/share/lua/5.1/lzmq/poller.lua:75: in function 'poll'\n\t.../Programs/torch/install/share/lua/5.1/lzmq/impl/loop.lua:307: in function 'poll'\n\t.../Programs/torch/install/share/lua/5.1/lzmq/impl/loop.lua:325: in function 'sleep_ex'\n\t.../Programs/torch/install/share/lua/5.1/lzmq/impl/loop.lua:370: in function 'start'\n\t...mhn/Programs/torch/install/share/lua/5.1/itorch/main.lua:341: in main chunk\n\t[C]: in function 'require'\n\t(command line):1: in main chunk\n\t[C]: at 0x00405820"
       ]
      }
     ],
     "prompt_number": 14
    },
    {
     "cell_type": "code",
     "collapsed": false,
     "input": [
      "torch.save('TrainData.dat', trainData)"
     ],
     "language": "python",
     "metadata": {},
     "outputs": [
      {
       "metadata": {},
       "output_type": "pyout",
       "prompt_number": 29,
       "text": [
        "\n"
       ]
      }
     ],
     "prompt_number": 29
    },
    {
     "cell_type": "code",
     "collapsed": false,
     "input": [
      "z = torch.Tensor(3,5):fill(2)\n",
      "s = torch.sum(z[2])\n",
      "print(s)"
     ],
     "language": "python",
     "metadata": {},
     "outputs": [
      {
       "metadata": {},
       "output_type": "pyout",
       "prompt_number": 48,
       "text": [
        "10\t\n"
       ]
      }
     ],
     "prompt_number": 48
    },
    {
     "cell_type": "code",
     "collapsed": false,
     "input": [
      "x = {{1,-1,-1,1,-1,-1,-1,1,-1,1,-1,-1,1,1,1,-1,-1,1,-1,1,-1,-1,1,-1,1,-1},\n",
      "{1,-1,1,1,1,-1,-1,1,-1,-1,1,-1,1,1,1,-1,-1,1,-1,-1,1,-1,1,1,1,-1},\n",
      "{1,-1,1,1,1,1,1,-1,-1,-1,-1,1,-1,-1,-1,-1,1,-1,-1,-1,-1,-1,1,1,1,1},\n",
      "{1,1,1,1,-1,-1,1,-1,-1,1,-1,1,-1,-1,-1,1,1,-1,-1,1,-1,1,1,1,-1,-1},\n",
      "{1,1,1,1,1,1,1,-1,-1,-1,-1,1,1,1,1,1,1,-1,-1,-1,-1,1,1,1,1,1},\n",
      "{1,1,1,1,1,1,1,-1,-1,-1,-1,1,1,1,1,1,1,-1,-1,-1,-1,1,-1,-1,-1,-1},\n",
      "{1,-1,1,1,1,-1,1,-1,-1,-1,-1,1,-1,1,1,1,1,-1,-1,-1,1,-1,1,1,1,1},\n",
      "{1,1,-1,-1,-1,1,1,-1,-1,-1,1,1,1,1,1,1,1,-1,-1,-1,1,1,-1,-1,-1,1},\n",
      "{1,-1,-1,1,-1,-1,-1,-1,1,-1,-1,-1,-1,1,-1,-1,-1,-1,1,-1,-1,-1,-1,1,-1,-1},\n",
      "{1,-1,-1,-1,1,-1,-1,-1,-1,1,-1,-1,1,-1,1,-1,-1,1,-1,1,-1,-1,-1,1,-1,-1},\n",
      "{1,1,-1,-1,1,-1,1,-1,1,-1,-1,1,1,-1,-1,-1,1,-1,1,-1,-1,1,-1,-1,1,-1},\n",
      "{1,-1,1,-1,-1,-1,-1,1,-1,-1,-1,-1,1,-1,-1,-1,-1,1,-1,-1,-1,-1,1,1,1,1},\n",
      "{1,1,-1,-1,-1,1,1,1,-1,1,1,1,-1,1,-1,1,1,-1,-1,-1,1,1,-1,-1,-1,1},\n",
      "{1,1,-1,-1,-1,1,1,1,-1,-1,1,1,-1,1,-1,1,1,-1,-1,1,1,1,-1,-1,-1,1},\n",
      "{1,-1,1,1,-1,-1,1,-1,-1,1,-1,1,-1,-1,1,-1,1,-1,-1,1,-1,-1,1,1,-1,-1},\n",
      "{1,-1,1,1,1,-1,-1,1,-1,1,-1,-1,1,1,1,-1,-1,1,-1,-1,-1,-1,1,-1,-1,-1},\n",
      "{1,-1,1,1,-1,-1,1,-1,-1,1,-1,1,-1,-1,1,-1,1,-1,1,1,-1,-1,1,1,1,-1},\n",
      "{1,1,1,1,-1,-1,1,-1,-1,1,-1,1,1,1,-1,-1,1,-1,1,-1,-1,1,-1,-1,1,-1},\n",
      "{1,1,1,1,1,1,1,-1,-1,-1,-1,1,1,1,1,1,-1,-1,-1,-1,1,1,1,1,1,1},\n",
      "{1,1,1,1,1,1,-1,-1,1,-1,-1,-1,-1,1,-1,-1,-1,-1,1,-1,-1,-1,-1,1,-1,-1},\n",
      "{1,1,-1,-1,-1,1,1,-1,-1,-1,1,1,-1,-1,-1,1,1,-1,-1,-1,1,-1,1,1,1,-1},\n",
      "{1,1,-1,-1,-1,1,-1,1,-1,1,-1,-1,1,-1,1,-1,-1,-1,1,-1,-1,-1,-1,1,-1,-1},\n",
      "{1,1,-1,-1,-1,1,1,-1,1,-1,-1,-1,1,1,1,-1,-1,1,1,1,-1,-1,-1,1,-1,-1},\n",
      "{1,1,-1,-1,-1,1,-1,1,-1,1,-1,-1,-1,1,-1,-1,-1,1,-1,1,-1,1,-1,-1,-1,1},\n",
      "{1,1,-1,-1,-1,1,-1,1,-1,1,-1,-1,-1,1,-1,-1,-1,-1,1,-1,-1,-1,-1,1,-1,-1},\n",
      "{1,1,1,1,1,1,-1,-1,-1,1,-1,-1,-1,1,-1,-1,-1,1,-1,-1,-1,1,1,1,1,1},\n",
      "{1,-1,-1,1,-1,-1,-1,1,-1,1,-1,1,1,1,1,1,-1,1,-1,1,-1,-1,1,-1,1,-1}}\n",
      "y = torch.Tensor(x)\n",
      "--print(y)\n",
      "--torch.save('TrainData.dat', y)\n",
      "l = {\n",
      "    {1,-1,-1,-1,-1,-1,-1,-1,-1,-1,-1,-1,-1,-1,-1,-1,-1,-1,-1,-1,-1,-1,-1,-1,-1,-1},\n",
      "{-1,1,-1,-1,-1,-1,-1,-1,-1,-1,-1,-1,-1,-1,-1,-1,-1,-1,-1,-1,-1,-1,-1,-1,-1,-1},\n",
      "{-1,-1,1,-1,-1,-1,-1,-1,-1,-1,-1,-1,-1,-1,-1,-1,-1,-1,-1,-1,-1,-1,-1,-1,-1,-1},\n",
      "{-1,-1,-1,1,-1,-1,-1,-1,-1,-1,-1,-1,-1,-1,-1,-1,-1,-1,-1,-1,-1,-1,-1,-1,-1,-1},\n",
      "{-1,-1,-1,-1,1,-1,-1,-1,-1,-1,-1,-1,-1,-1,-1,-1,-1,-1,-1,-1,-1,-1,-1,-1,-1,-1},\n",
      "{-1,-1,-1,-1,-1,1,-1,-1,-1,-1,-1,-1,-1,-1,-1,-1,-1,-1,-1,-1,-1,-1,-1,-1,-1,-1},\n",
      "{-1,-1,-1,-1,-1,-1,1,-1,-1,-1,-1,-1,-1,-1,-1,-1,-1,-1,-1,-1,-1,-1,-1,-1,-1,-1},\n",
      "{-1,-1,-1,-1,-1,-1,-1,1,-1,-1,-1,-1,-1,-1,-1,-1,-1,-1,-1,-1,-1,-1,-1,-1,-1,-1},\n",
      "{-1,-1,-1,-1,-1,-1,-1,-1,1,-1,-1,-1,-1,-1,-1,-1,-1,-1,-1,-1,-1,-1,-1,-1,-1,-1},\n",
      "{-1,-1,-1,-1,-1,-1,-1,-1,-1,1,-1,-1,-1,-1,-1,-1,-1,-1,-1,-1,-1,-1,-1,-1,-1,-1},\n",
      "{-1,-1,-1,-1,-1,-1,-1,-1,-1,-1,1,-1,-1,-1,-1,-1,-1,-1,-1,-1,-1,-1,-1,-1,-1,-1},\n",
      "{-1,-1,-1,-1,-1,-1,-1,-1,-1,-1,-1,1,-1,-1,-1,-1,-1,-1,-1,-1,-1,-1,-1,-1,-1,-1},\n",
      "{-1,-1,-1,-1,-1,-1,-1,-1,-1,-1,-1,-1,1,-1,-1,-1,-1,-1,-1,-1,-1,-1,-1,-1,-1,-1},\n",
      "{-1,-1,-1,-1,-1,-1,-1,-1,-1,-1,-1,-1,-1,1,-1,-1,-1,-1,-1,-1,-1,-1,-1,-1,-1,-1},\n",
      "{-1,-1,-1,-1,-1,-1,-1,-1,-1,-1,-1,-1,-1,-1,1,-1,-1,-1,-1,-1,-1,-1,-1,-1,-1,-1},\n",
      "{-1,-1,-1,-1,-1,-1,-1,-1,-1,-1,-1,-1,-1,-1,-1,1,-1,-1,-1,-1,-1,-1,-1,-1,-1,-1},\n",
      "{-1,-1,-1,-1,-1,-1,-1,-1,-1,-1,-1,-1,-1,-1,-1,-1,1,-1,-1,-1,-1,-1,-1,-1,-1,-1},\n",
      "{-1,-1,-1,-1,-1,-1,-1,-1,-1,-1,-1,-1,-1,-1,-1,-1,-1,1,-1,-1,-1,-1,-1,-1,-1,-1},\n",
      "{-1,-1,-1,-1,-1,-1,-1,-1,-1,-1,-1,-1,-1,-1,-1,-1,-1,-1,1,-1,-1,-1,-1,-1,-1,-1},\n",
      "{-1,-1,-1,-1,-1,-1,-1,-1,-1,-1,-1,-1,-1,-1,-1,-1,-1,-1,-1,1,-1,-1,-1,-1,-1,-1},\n",
      "{-1,-1,-1,-1,-1,-1,-1,-1,-1,-1,-1,-1,-1,-1,-1,-1,-1,-1,-1,-1,1,-1,-1,-1,-1,-1},\n",
      "{-1,-1,-1,-1,-1,-1,-1,-1,-1,-1,-1,-1,-1,-1,-1,-1,-1,-1,-1,-1,-1,1,-1,-1,-1,-1},\n",
      "{-1,-1,-1,-1,-1,-1,-1,-1,-1,-1,-1,-1,-1,-1,-1,-1,-1,-1,-1,-1,-1,-1,1,-1,-1,-1},\n",
      "{-1,-1,-1,-1,-1,-1,-1,-1,-1,-1,-1,-1,-1,-1,-1,-1,-1,-1,-1,-1,-1,-1,-1,1,-1,-1},\n",
      "{-1,-1,-1,-1,-1,-1,-1,-1,-1,-1,-1,-1,-1,-1,-1,-1,-1,-1,-1,-1,-1,-1,-1,-1,1,-1},\n",
      "{-1,-1,-1,-1,-1,-1,-1,-1,-1,-1,-1,-1,-1,-1,-1,-1,-1,-1,-1,-1,-1,-1,-1,-1,-1,1},\n",
      "{1,-1,-1,-1,-1,-1,-1,-1,-1,-1,-1,-1,-1,-1,-1,-1,-1,-1,-1,-1,-1,-1,-1,-1,-1,-1}\n",
      "}\n",
      "label = torch.Tensor(l)\n",
      "--print(label)\n",
      "data = {X = y,T = label}"
     ],
     "language": "python",
     "metadata": {},
     "outputs": [],
     "prompt_number": 1
    },
    {
     "cell_type": "code",
     "collapsed": false,
     "input": [
      "w = torch.load('TrainData_Y.dat')"
     ],
     "language": "python",
     "metadata": {},
     "outputs": [],
     "prompt_number": 32
    },
    {
     "cell_type": "code",
     "collapsed": false,
     "input": [
      "torch.save('TestData.dat', data)"
     ],
     "language": "python",
     "metadata": {},
     "outputs": [
      {
       "metadata": {},
       "output_type": "pyout",
       "prompt_number": 2,
       "text": [
        "\n"
       ]
      }
     ],
     "prompt_number": 2
    },
    {
     "cell_type": "code",
     "collapsed": false,
     "input": [
      "?torch.pow"
     ],
     "language": "python",
     "metadata": {},
     "outputs": [
      {
       "metadata": {},
       "output_type": "pyout",
       "prompt_number": 3,
       "text": [
        "\n",
        "+++++++++++++++++++++++++++++++++++++++++++++++++++++++++++++++++++++\n",
        "\u001b[1;35m[res] torch.pow([res,] x)\u001b[0m\n",
        "\n",
        "\n",
        "Let x be a tensor and n a number.\n",
        "\n",
        "\u001b[0;32m y=torch.pow(x,n) \u001b[0mreturns a new tensor with the elements of x to the \n",
        "power of n.\n",
        "\n",
        "\u001b[0;32m y=torch.pow(n,x) \u001b[0mreturns, for each element in x, n raised to the power \n",
        "of the element in x.\n",
        "\n",
        "\u001b[0;32m x:pow(n) \u001b[0mreplaces all elements in-place with the elements of x to the \n",
        "power of n.\t\n",
        "+++++++++++++++++++++++++++++++++++++++++++++++++++++++++++++++++++++\t\n",
        "\n"
       ]
      }
     ],
     "prompt_number": 3
    },
    {
     "cell_type": "code",
     "collapsed": false,
     "input": [],
     "language": "python",
     "metadata": {},
     "outputs": []
    }
   ],
   "metadata": {}
  }
 ]
}