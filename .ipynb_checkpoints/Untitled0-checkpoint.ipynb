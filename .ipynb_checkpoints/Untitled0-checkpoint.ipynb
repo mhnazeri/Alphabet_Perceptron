{
 "metadata": {
  "name": "",
  "signature": "sha256:7b48c63de0d3d6e907e7baa9e0676c083ffe33ee03b407ec05b2a1ee018a1630"
 },
 "nbformat": 3,
 "nbformat_minor": 0,
 "worksheets": []
}