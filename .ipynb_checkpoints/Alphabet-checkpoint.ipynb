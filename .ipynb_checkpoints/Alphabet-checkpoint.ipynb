{
 "metadata": {
  "language": "lua",
  "name": "",
  "signature": "sha256:d737b7c8919f873a85190710a51f550dcb17ecdfe45b6141760e3bdfe5b71c2e"
 },
 "nbformat": 3,
 "nbformat_minor": 0,
 "worksheets": [
  {
   "cells": [
    {
     "cell_type": "code",
     "collapsed": false,
     "input": [
      "--Train Program\n",
      "require 'torch'\n",
      "alpha = 1\n",
      "theta = 0.2\n",
      "loaded = torch.load('data.dat')\n",
      "trainData = {\n",
      "    data = loaded.x ,\n",
      "    label = loaded.y ,\n",
      "    size = function() return (#trainData.data) end\n",
      "}\n",
      "\n",
      "epoch = 0\n",
      "\n",
      "m = trainData.size()     --Number of train data\n",
      "n = trainData.data[1]:size(1)    --Number of features\n",
      "k = trainData.label[1]:size(1)   --Number of Outputs\n",
      "\n",
      "w = torch.Tensor(n, k):fill(0)    --matrix of weights\n",
      "out = torch.Tensor(m,k):fill(0)   --output matrix\n",
      "delta_w = torch.Tensor(n, k):fill(0)    --difference of weights\n",
      "\n",
      "flaq = true\n",
      "\n",
      "function normal() do\n",
      "    for i = 1, m do\n",
      "        for j = 1, k do\n",
      "            for l = 1, n do\n",
      "                out[i][j] = out[i][j] + (trainData.data[i][l] * w[l][j])\n",
      "            end\n",
      "        end\n",
      "    end\n",
      "    for i = 1, m do\n",
      "        for j = 1, k do\n",
      "            if out[i][j] > theta then\n",
      "                out[i][j] = 1\n",
      "            elseif out[i][j] <= -theta then\n",
      "                out[i][j] = -1\n",
      "            else\n",
      "                out[i][j] = 0\n",
      "            end\n",
      "        end\n",
      "    end\n",
      "end\n",
      "end\n",
      "\n",
      "while flaq do\n",
      "    for f = 1, m do    --loop for Number of train data\n",
      "        --out = trainData.x * w\n",
      "        normal()\n",
      "        for i = 1, n do    --loop for Number of Features\n",
      "                for j = 1, k do   --lopp for Number of outputs\n",
      "                    if out[f][j] ~= trainData.label[f][j] then\n",
      "                        temp = w[i][j] + (alpha * (trainData.data[f][i] * trainData.label[f][j]))\n",
      "                        delta_w[i][j] = temp - w[i][j]\n",
      "                        w[i][j] = temp\n",
      "                    end\n",
      "                end\n",
      "        end\n",
      "    end\n",
      "    s = torch.sum(delta_w[m])\n",
      "    if s == 0 then\n",
      "        flaq = false\n",
      "    end\n",
      "    epoch = epoch + 1\n",
      "    print(epoch)\n",
      "end\n",
      "\n",
      "print(w)"
     ],
     "language": "python",
     "metadata": {},
     "outputs": []
    },
    {
     "cell_type": "code",
     "collapsed": false,
     "input": [
      "o = torch.Tensor(k):fill(0)\n",
      "for i=1, k do\n",
      "    t_w = w:t()\n",
      "    z = t_w[i] * trainData.data[2]\n",
      "    if z > theta then\n",
      "        o[i] = 1\n",
      "    elseif (z <= theta and z >= -theta) then\n",
      "        o[i] = 0\n",
      "    else\n",
      "        o[i] = -1\n",
      "    end\n",
      "end\n",
      "print(o)"
     ],
     "language": "python",
     "metadata": {},
     "outputs": [
      {
       "metadata": {},
       "output_type": "pyout",
       "prompt_number": 5,
       "text": [
        "-1\n",
        " 1\n",
        "-1\n",
        "-1\n",
        "-1\n",
        " 0\n",
        " 1\n",
        "-1\n",
        "-1\n",
        "-1\n",
        "-1\n",
        " 1\n",
        "-1\n",
        "-1\n",
        "-1\n",
        "-1\n",
        " 1\n",
        "-1\n",
        "-1\n",
        " 0\n",
        "-1\n",
        " 1\n",
        "-1\n",
        "-1\n",
        "-1\n",
        "-1\n",
        "[torch.DoubleTensor of dimension 26]\n",
        "\n"
       ]
      }
     ],
     "prompt_number": 5
    },
    {
     "cell_type": "code",
     "collapsed": false,
     "input": [
      "torch.save('weight1.dat', w)"
     ],
     "language": "python",
     "metadata": {},
     "outputs": [
      {
       "metadata": {},
       "output_type": "pyout",
       "prompt_number": 20,
       "text": [
        "\n"
       ]
      }
     ],
     "prompt_number": 20
    },
    {
     "cell_type": "code",
     "collapsed": false,
     "input": [
      "q = torch.Tensor(m,k):fill(0)\n",
      "--print(m)\n",
      "print(trainData.data[m][n])"
     ],
     "language": "python",
     "metadata": {},
     "outputs": [
      {
       "metadata": {},
       "output_type": "pyout",
       "prompt_number": 12,
       "text": [
        "1\t\n"
       ]
      }
     ],
     "prompt_number": 12
    },
    {
     "cell_type": "code",
     "collapsed": false,
     "input": [
      "print(m)"
     ],
     "language": "python",
     "metadata": {},
     "outputs": [
      {
       "metadata": {},
       "output_type": "pyout",
       "prompt_number": 7,
       "text": [
        "27\t\n"
       ]
      }
     ],
     "prompt_number": 7
    },
    {
     "cell_type": "code",
     "collapsed": false,
     "input": [
      "print(trainData.data[m][n])"
     ],
     "language": "python",
     "metadata": {},
     "outputs": [
      {
       "metadata": {},
       "output_type": "pyout",
       "prompt_number": 21,
       "text": [
        "1\t\n"
       ]
      }
     ],
     "prompt_number": 21
    },
    {
     "cell_type": "code",
     "collapsed": false,
     "input": [],
     "language": "python",
     "metadata": {},
     "outputs": [
      {
       "metadata": {},
       "output_type": "pyout",
       "prompt_number": 20,
       "text": [
        "\n"
       ]
      }
     ],
     "prompt_number": 20
    },
    {
     "cell_type": "code",
     "collapsed": false,
     "input": [],
     "language": "python",
     "metadata": {},
     "outputs": []
    }
   ],
   "metadata": {}
  }
 ]
}