{
 "metadata": {
  "language": "lua",
  "name": "",
  "signature": "sha256:ccce41d9690051679031731162ec71bc421fa0c6c7a68aa961b3800e1a8813ef"
 },
 "nbformat": 3,
 "nbformat_minor": 0,
 "worksheets": [
  {
   "cells": [
    {
     "cell_type": "code",
     "collapsed": false,
     "input": [
      "--Train Program\n",
      "require 'torch'\n",
      "alpha = 1\n",
      "theta = 0.2\n",
      "loaded = torch.load('TrainData.dat')\n",
      "trainData = {\n",
      "    data = loaded.X ,\n",
      "    label = loaded.T ,\n",
      "    size = function() return (#trainData.data)[1] end\n",
      "}\n",
      "\n",
      "epoch = 0\n",
      "\n",
      "m = trainData.size()     --Number of train data\n",
      "n = trainData.data:size(2)    --Number of features\n",
      "k = trainData.label:size(2)   --Number of Outputs\n",
      "\n",
      "w = torch.Tensor(n, k):fill(0)    --matrix of weights\n",
      "out = torch.Tensor(m,k):fill(0)   --output matrix\n",
      "delta_w = torch.Tensor(n, k):fill(0)    --difference of weights\n",
      "\n",
      "flaq = true\n",
      "\n",
      "function normal() do\n",
      "    --for i = 1, m do\n",
      "        --for j = 1, k do\n",
      "            --for l = 1, n do\n",
      "                out = (trainData.data * w)\n",
      "            --end\n",
      "        --end\n",
      "    --end\n",
      "    for i = 1, m do\n",
      "        for j = 1, k do\n",
      "            if out[i][j] > theta then\n",
      "                out[i][j] = 1\n",
      "            elseif out[i][j] <= -theta then\n",
      "                out[i][j] = -1\n",
      "            else\n",
      "                out[i][j] = 0\n",
      "            end\n",
      "        end\n",
      "    end\n",
      "end\n",
      "end\n",
      "\n",
      "temp = 0\n",
      "\n",
      "while flaq do\n",
      "    flaq = false\n",
      "    for f = 1, m do    --loop for Number of train data\n",
      "        normal()\n",
      "        for i = 1, n do    --loop for Number of Features\n",
      "                for j = 1, k do   --lopp for Number of outputs\n",
      "                    if out[f][j] ~= trainData.label[f][j] then\n",
      "                        temp = w[i][j] + (alpha * (trainData.data[f][i] * trainData.label[f][j]))\n",
      "                        delta_w[i][j] = temp - w[i][j]\n",
      "                        w[i][j] = temp\n",
      "                        flaq = true\n",
      "                    else\n",
      "                      delta_w[i][j] = 0\n",
      "                      --flaq = true\n",
      "                    end\n",
      "                end\n",
      "        end\n",
      "    end\n",
      "    --s = torch.sum(delta_w)\n",
      "    --if s == 0 then\n",
      "        --flaq = false\n",
      "    --end\n",
      "    epoch = epoch + 1\n",
      "    print(epoch)\n",
      "end\n",
      "\n",
      "print(w)"
     ],
     "language": "python",
     "metadata": {},
     "outputs": [
      {
       "metadata": {},
       "output_type": "pyout",
       "prompt_number": 2,
       "text": [
        "1\t\n"
       ]
      },
      {
       "metadata": {},
       "output_type": "pyout",
       "prompt_number": 2,
       "text": [
        "-4 -5 -4 -5 -4 -6 -4 -6 -5 -4 -4 -3 -4 -5 -4 -4 -3 -3 -4 -5 -3 -4 -4 -4 -3 -3\n",
        " 0  1  0  1  0  0  0  0 -1  0  2  1  2  1  2  2  1  3  2  1  3  2  2  2  3  3\n",
        " 0  3  2  1  0  2  2  2  1  2  0  3  2  3  2  4  3  3  2  3  1  2  2  2  1  3\n",
        " 0 -1 -2 -1 -2  0 -2 -2  1 -2 -4 -3 -2 -1 -2 -2 -1 -1 -2 -1 -3 -2 -2 -2 -3 -1\n",
        " 0  3  4  1  0  0  2  0 -3  4  4  1  2  3  2  4  1  1  2  3  1  2  2  2  1  3\n",
        " 2 -1  2 -3 -2  0 -2  0 -1 -2  0 -1  0 -1  0  0 -1 -1  0 -1  1  0  0  0  1  1\n",
        " 0 -1  0 -3  0  0  0  0 -1  0  0 -1  0  1  0  0  1  1  2 -1  1 -2  2  0 -1 -1\n",
        " 2  3  2  1  2  2  2  0  3  0  2  3  2  3  2  2  1  1  2  3  1  4  0  2  3  1\n",
        " 2  3  2  3  2  2  2  2  3  2  4  1  2  3  2  2  1  1  2  3  1  0  4  2  1  1\n",
        " 0  1  0  1  2  2  2  0  1  2  0  1  4  1  2  2  3  3  0  1  1  4  0  2  3  3\n",
        " 0  3  2  3  2  2  2  4  3  2  2  1  2  3  2  2  1  1  2  3  3  2  2  2  1  1\n",
        " 0 -1  0 -1  0  0  0 -2 -1  0  0 -1  0  1  0 -2  1  1  2  1  1  0  0  0 -1 -1\n",
        " 2  1  0 -1  0  0 -2  0 -3  0  0  1  0  1  0  0 -1  1  2 -1 -1  0  2  0 -1 -1\n",
        " 0 -1 -2 -3 -2  0 -2 -2  1 -2 -4 -3 -2 -1 -2 -2 -3 -1 -2 -3 -3 -4 -2 -2 -1 -1\n",
        " 2  1  0 -3  0  2  0  2 -1  0  0 -1  0  1  0  0  1 -1  2 -1 -1  0  2  0 -1 -1\n",
        " 0  1  0  3  2  4  2  2  3  2  2  1  2  3  2  0  1  1  4  3  3  2  2  2  1  1\n",
        " 0 -1  0 -1  0  0  2  0 -1  0  0 -1  0  1  0  0  1  1  0  1  1  0  0  0 -1 -1\n",
        " 2  3  2  1  2  2  2  2  1  4  2  3  2  1  2  2  1  1  0 -1  1  0  2  4  1  3\n",
        " 2  3  2  3  2  2  2  2  3  0  2  1  2  3  0  2  3  3  2  3  1  2  4  0  3  1\n",
        " 2  3  0  1  2  4  2  2  1  4  2  1  0  3  2  0  3  1  2  1  1  0  2  4  1  1\n",
        " 0  3  2  3  2  2  2  4  3  2  2  1  2  3  2  2  1  1  4  3  3  2  2  2  1  1\n",
        " 0  3  0  3  2  4  0  2  1  2  2  1  2  3  2  2  1  3  2  1  1  2  0  4  1  3\n",
        " 2 -1  0  1  2 -2  0  0  1  0  0  1  0 -1  0  0  1 -1  0 -1  1  0  0  0 -1  1\n",
        "-4  1  0  1  2  0  0  2  1  0  0  1  0 -1  0  0  1 -1  0 -1  1  0  2 -2  1  1\n",
        " 4  1  2  1  2 -2  0 -2 -1  0  0  1  0 -1 -2 -2  1  1  0 -1  1  0  0  0 -1  1\n",
        " 2  1  2  1  2  2  0  2  1  0  0  1  0  1  0  0 -1 -1  0 -1 -1  0 -2  2 -1  1\n",
        "[torch.DoubleTensor of dimension 26x26]\n",
        "\n"
       ]
      }
     ],
     "prompt_number": 2
    },
    {
     "cell_type": "code",
     "collapsed": false,
     "input": [
      "o = torch.Tensor(m,k):fill(0)\n",
      "for i = 1, m do\n",
      "    for j = 1, k do\n",
      "        for l = 1, n do\n",
      "            o[i][j] = o[i][j] + (trainData.data[i][l] * w[l][j])\n",
      "        end\n",
      "    end\n",
      "end\n",
      "for i = 1, m do\n",
      "    for j = 1, k do\n",
      "        if o[i][j] > theta then\n",
      "            o[i][j] = 1\n",
      "        elseif o[i][j] <= -theta then\n",
      "            o[i][j] = -1\n",
      "        else\n",
      "            o[i][j] = 0\n",
      "        end\n",
      "    end\n",
      "end\n",
      "print(o[2])"
     ],
     "language": "python",
     "metadata": {},
     "outputs": [
      {
       "metadata": {},
       "output_type": "pyout",
       "prompt_number": 3,
       "text": [
        "-1\n",
        " 0\n",
        "-1\n",
        "-1\n",
        "-1\n",
        "-1\n",
        " 0\n",
        "-1\n",
        "-1\n",
        "-1\n",
        "-1\n",
        "-1\n",
        "-1\n",
        "-1\n",
        "-1\n",
        "-1\n",
        "-1\n",
        "-1\n",
        " 0\n",
        "-1\n",
        "-1\n",
        "-1\n",
        "-1\n",
        "-1\n",
        "-1\n",
        "-1\n",
        "[torch.DoubleTensor of dimension 26]\n",
        "\n"
       ]
      }
     ],
     "prompt_number": 3
    },
    {
     "cell_type": "code",
     "collapsed": false,
     "input": [
      "torch.save('weight2.dat', w)"
     ],
     "language": "python",
     "metadata": {},
     "outputs": [
      {
       "metadata": {},
       "output_type": "pyout",
       "prompt_number": 7,
       "text": [
        "\n"
       ]
      }
     ],
     "prompt_number": 7
    },
    {
     "cell_type": "code",
     "collapsed": false,
     "input": [
      "print(trainData.data:size(2))"
     ],
     "language": "python",
     "metadata": {},
     "outputs": [
      {
       "metadata": {},
       "output_type": "pyout",
       "prompt_number": 14,
       "text": [
        "26\t\n"
       ]
      }
     ],
     "prompt_number": 14
    },
    {
     "cell_type": "code",
     "collapsed": false,
     "input": [],
     "language": "python",
     "metadata": {},
     "outputs": []
    }
   ],
   "metadata": {}
  }
 ]
}