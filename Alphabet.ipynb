{
 "metadata": {
  "language": "lua",
  "name": "",
  "signature": "sha256:1c239dd00511ef2370add616364ef19d9c3f678a686413fbdf3bae2c067fe041"
 },
 "nbformat": 3,
 "nbformat_minor": 0,
 "worksheets": [
  {
   "cells": [
    {
     "cell_type": "code",
     "collapsed": false,
     "input": [
      "--Train Program\n",
      "require 'torch'\n",
      "alpha = 1\n",
      "theta = 0.2\n",
      "loaded = torch.load('TrainData.dat')\n",
      "trainData = {\n",
      "    data = loaded.X ,\n",
      "    label = loaded.T ,\n",
      "    size = function() return (#trainData.data)[1] end\n",
      "}\n",
      "\n",
      "epoch = 0\n",
      "\n",
      "m = trainData.size()     --Number of train data\n",
      "n = trainData.data:size(2)    --Number of features\n",
      "k = trainData.label:size(2)   --Number of Outputs\n",
      "\n",
      "w = torch.Tensor(n, k):fill(0)    --matrix of weights\n",
      "out = torch.Tensor(m,k):fill(0)   --output matrix\n",
      "delta_w = torch.Tensor(n, k):fill(0)    --difference of weights\n",
      "\n",
      "flaq = true\n",
      "\n",
      "function normal() do\n",
      "    --for i = 1, m do\n",
      "        --for j = 1, k do\n",
      "            --for l = 1, n do\n",
      "                out = (trainData.data * w)\n",
      "            --end\n",
      "        --end\n",
      "    --end\n",
      "    for i = 1, m do\n",
      "        for j = 1, k do\n",
      "            if out[i][j] > theta then\n",
      "                out[i][j] = 1\n",
      "            elseif out[i][j] <= -theta then\n",
      "                out[i][j] = -1\n",
      "            else\n",
      "                out[i][j] = 0\n",
      "            end\n",
      "        end\n",
      "    end\n",
      "end\n",
      "end\n",
      "\n",
      "temp = 0\n",
      "\n",
      "while flaq do\n",
      "    flaq = false\n",
      "    for f = 1, m do    --loop for Number of train data\n",
      "        normal()\n",
      "        for i = 1, n do    --loop for Number of Features\n",
      "                for j = 1, k do   --lopp for Number of outputs\n",
      "                    if out[f][j] ~= trainData.label[f][j] then\n",
      "                        temp = w[i][j] + (alpha * (trainData.data[f][i] * trainData.label[f][j]))\n",
      "                        delta_w[i][j] = temp - w[i][j]\n",
      "                        w[i][j] = temp\n",
      "                        flaq = true\n",
      "                    else\n",
      "                      delta_w[i][j] = 0\n",
      "                      --flaq = true\n",
      "                    end\n",
      "                end\n",
      "        end\n",
      "    end\n",
      "    --s = torch.sum(delta_w)\n",
      "    --if s == 0 then\n",
      "        --flaq = false\n",
      "    --end\n",
      "    epoch = epoch + 1\n",
      "    print(epoch)\n",
      "end\n",
      "\n",
      "print(w)"
     ],
     "language": "python",
     "metadata": {},
     "outputs": [
      {
       "metadata": {},
       "output_type": "pyout",
       "prompt_number": 3,
       "text": [
        "1\t\n"
       ]
      },
      {
       "metadata": {},
       "output_type": "pyout",
       "prompt_number": 3,
       "text": [
        "2\t\n"
       ]
      },
      {
       "metadata": {},
       "output_type": "pyout",
       "prompt_number": 3,
       "text": [
        "3\t\n"
       ]
      },
      {
       "metadata": {},
       "output_type": "pyout",
       "prompt_number": 3,
       "text": [
        "4\t\n"
       ]
      },
      {
       "metadata": {},
       "output_type": "pyout",
       "prompt_number": 3,
       "text": [
        "5\t\n"
       ]
      },
      {
       "metadata": {},
       "output_type": "pyout",
       "prompt_number": 3,
       "text": [
        "6\t\n"
       ]
      },
      {
       "metadata": {},
       "output_type": "pyout",
       "prompt_number": 3,
       "text": [
        "7\t\n"
       ]
      },
      {
       "metadata": {},
       "output_type": "pyout",
       "prompt_number": 3,
       "text": [
        "8\t\n"
       ]
      },
      {
       "metadata": {},
       "output_type": "pyout",
       "prompt_number": 3,
       "text": [
        "9\t\n"
       ]
      },
      {
       "metadata": {},
       "output_type": "pyout",
       "prompt_number": 3,
       "text": [
        "10\t\n"
       ]
      },
      {
       "metadata": {},
       "output_type": "pyout",
       "prompt_number": 3,
       "text": [
        "11\t\n"
       ]
      },
      {
       "metadata": {},
       "output_type": "pyout",
       "prompt_number": 3,
       "text": [
        "12\t\n"
       ]
      },
      {
       "metadata": {},
       "output_type": "pyout",
       "prompt_number": 3,
       "text": [
        "13\t\n"
       ]
      },
      {
       "metadata": {},
       "output_type": "pyout",
       "prompt_number": 3,
       "text": [
        "Columns 1 to 20\n",
        " -4  -5  -6  -5  -8  -8  -7  -9  -7  -4  -4  -7  -4  -5 -12  -8  -4  -8  -6  -7\n",
        "  0   1  -2   1   0   0  -1  -1  -3   0   2  -1   2   1  -2   0   0   2   2   3\n",
        "  0   3   2   3   0   4   3   1   1   2   0   3   2   3   2   6   2   4   2   7\n",
        "  0  -1  -2   1   0   2  -1  -3   1  -2  -4  -5  -2  -1  -2  -2  -2   0  -2   1\n",
        "  0   3   2   1   2   4   7  -1  -3   4   4  -1   2   3   0   6   2  -2   4   5\n",
        "  2  -1   4  -5   2   2  -3  -1  -3  -2   0   1   0  -1   0   0   0   0   2   3\n",
        "  0  -1   0  -3   0   0  -1  -1  -1   0   0  -1   0   1   0   0   0   0   2  -3\n",
        "  2   3   2   1   4   2   1  -5   1   0   2   3   2   3   0   4   2   2   2   1\n",
        "  2   3   2   3   4   4   5   3   5   2   4   3   2   3   8   4   2   2   4   5\n",
        "  0   1   2   3   2   0  -1  -1  -1   2   0   1   4  -1   2   4   2   2   0   1\n",
        "  0   3   2   1   4   0  -1   5   3   2   2   1   2   3   4   0   2   4   0   1\n",
        "  0  -1   0  -1   0   0  -1  -1  -3   0   0  -1   0   1   2  -2   0   0   2  -1\n",
        "  2   1  -4  -1   2   0  -3   3  -3   0   0   1   0   1  -2   2   0   4   2  -3\n",
        "  0  -1  -4  -3   0   0  -1  -5  -1  -2  -4  -5  -2  -1  -6  -2  -2   2  -2  -3\n",
        "  2   1  -2  -3   4   2  -1   5  -1   0   0  -1   0   1   4   2   2   0   2  -1\n",
        "  0   1   0   3   4   4   5   3   1   2   2   3   2   3   0   0   0   2   4   3\n",
        "  0  -1   0  -1   4   0   1   3  -1   0   0  -1   0   1   2   0   0   0  -4  -1\n",
        "  2   3   2   1   2   2   3   1   1   4   2   3   2   1   0   4   2   2   0  -1\n",
        "  2   3   2   3   4   4   3   3   5   0   2   3   2   3  -4   4   6   6   4   5\n",
        "  2   3   2   3   4   4   1   1   1   4   2   1   0   5   4  -2   2   2   2   3\n",
        "  0   3   2   1  -2   0   3   3   3   2   2   1   2   3   4   0   2   4   6   1\n",
        "  0   3  -2   5   2   4  -1   3   1   2   2  -1   2   3   0   2   0   2   2  -1\n",
        "  2  -1   0   1   4  -4   1  -1   1   0   0   1   0  -1   0   2   0  -4   0  -1\n",
        " -4   1   0   1   4   0   1  -1   3   0   0   1   0  -1   0  -6   0  -2   0   1\n",
        "  4   1   0  -1   4   0   3  -3  -1   0   0   1   0  -1  -8  -4   4   2   2  -3\n",
        "  2   1   4   1   4   0   3   3   1   0   0   5   0   1   2   2   0   0   2  -1\n",
        "\n",
        "Columns 21 to 26\n",
        " -7  -7  -6  -8 -13  -7\n",
        "  1   1   2   2   1   1\n",
        "  1   3   2   4  -1   1\n",
        " -3  -1  -2  -2  -5  -3\n",
        "  1   1   0   2   1   3\n",
        "  3   1   2   0  -1   1\n",
        " -1  -3   2  -2  -1  -1\n",
        "  1   3   0   2   5   1\n",
        "  3   1   4   6   3   3\n",
        "  1   3   2   2   3   5\n",
        "  3   3   2   0   3   3\n",
        " -1  -1   0  -2  -1  -1\n",
        " -3   1   0   0  -5  -1\n",
        " -5  -7  -2  -4   3  -3\n",
        " -1   3   2   0  -5  -1\n",
        "  3   3   4   0   3   1\n",
        " -1  -1   0  -2  -1   1\n",
        "  3   1   2   6   3   5\n",
        "  3   3   4   4   9   3\n",
        "  3   3   4   4   3   1\n",
        "  3   3   2   0   3   1\n",
        " -3   1   0   4   1   3\n",
        "  3   1   0   0   3   1\n",
        "  3   3   2  -2   3  -1\n",
        "  3   1  -2   0   3   3\n",
        " -1   1   0   2  -3   3\n",
        "[torch.DoubleTensor of dimension 26x26]\n",
        "\n"
       ]
      }
     ],
     "prompt_number": 3
    },
    {
     "cell_type": "code",
     "collapsed": false,
     "input": [
      "o = torch.Tensor(m,k):fill(0)\n",
      "--for i = 1, m do\n",
      "    --for j = 1, k do\n",
      "        --for l = 1, n do\n",
      "            o = (trainData.data * w)\n",
      "        --end\n",
      "    --end\n",
      "--end\n",
      "for i = 1, m do\n",
      "    for j = 1, k do\n",
      "        if o[i][j] > theta then\n",
      "            o[i][j] = 1\n",
      "        elseif o[i][j] <= -theta then\n",
      "            o[i][j] = -1\n",
      "        else\n",
      "            o[i][j] = 0\n",
      "        end\n",
      "    end\n",
      "end\n",
      "print(o)"
     ],
     "language": "python",
     "metadata": {},
     "outputs": [
      {
       "metadata": {},
       "output_type": "pyout",
       "prompt_number": 4,
       "text": [
        " 1 -1 -1 -1 -1 -1 -1 -1 -1 -1 -1 -1 -1 -1 -1 -1 -1 -1 -1 -1 -1 -1 -1 -1 -1 -1\n",
        "-1  1 -1 -1 -1 -1 -1 -1 -1 -1 -1 -1 -1 -1 -1 -1 -1 -1 -1 -1 -1 -1 -1 -1 -1 -1\n",
        "-1 -1  1 -1 -1 -1 -1 -1 -1 -1 -1 -1 -1 -1 -1 -1 -1 -1 -1 -1 -1 -1 -1 -1 -1 -1\n",
        "-1 -1 -1  1 -1 -1 -1 -1 -1 -1 -1 -1 -1 -1 -1 -1 -1 -1 -1 -1 -1 -1 -1 -1 -1 -1\n",
        "-1 -1 -1 -1  1 -1 -1 -1 -1 -1 -1 -1 -1 -1 -1 -1 -1 -1 -1 -1 -1 -1 -1 -1 -1 -1\n",
        "-1 -1 -1 -1 -1  1 -1 -1 -1 -1 -1 -1 -1 -1 -1 -1 -1 -1 -1 -1 -1 -1 -1 -1 -1 -1\n",
        "-1 -1 -1 -1 -1 -1  1 -1 -1 -1 -1 -1 -1 -1 -1 -1 -1 -1 -1 -1 -1 -1 -1 -1 -1 -1\n",
        "-1 -1 -1 -1 -1 -1 -1  1 -1 -1 -1 -1 -1 -1 -1 -1 -1 -1 -1 -1 -1 -1 -1 -1 -1 -1\n",
        "-1 -1 -1 -1 -1 -1 -1 -1  1 -1 -1 -1 -1 -1 -1 -1 -1 -1 -1 -1 -1 -1 -1 -1 -1 -1\n",
        "-1 -1 -1 -1 -1 -1 -1 -1 -1  1 -1 -1 -1 -1 -1 -1 -1 -1 -1 -1 -1 -1 -1 -1 -1 -1\n",
        "-1 -1 -1 -1 -1 -1 -1 -1 -1 -1  1 -1 -1 -1 -1 -1 -1 -1 -1 -1 -1 -1 -1 -1 -1 -1\n",
        "-1 -1 -1 -1 -1 -1 -1 -1 -1 -1 -1  1 -1 -1 -1 -1 -1 -1 -1 -1 -1 -1 -1 -1 -1 -1\n",
        "-1 -1 -1 -1 -1 -1 -1 -1 -1 -1 -1 -1  1 -1 -1 -1 -1 -1 -1 -1 -1 -1 -1 -1 -1 -1\n",
        "-1 -1 -1 -1 -1 -1 -1 -1 -1 -1 -1 -1 -1  1 -1 -1 -1 -1 -1 -1 -1 -1 -1 -1 -1 -1\n",
        "-1 -1 -1 -1 -1 -1 -1 -1 -1 -1 -1 -1 -1 -1  1 -1 -1 -1 -1 -1 -1 -1 -1 -1 -1 -1\n",
        "-1 -1 -1 -1 -1 -1 -1 -1 -1 -1 -1 -1 -1 -1 -1  1 -1 -1 -1 -1 -1 -1 -1 -1 -1 -1\n",
        "-1 -1 -1 -1 -1 -1 -1 -1 -1 -1 -1 -1 -1 -1 -1 -1  1 -1 -1 -1 -1 -1 -1 -1 -1 -1\n",
        "-1 -1 -1 -1 -1 -1 -1 -1 -1 -1 -1 -1 -1 -1 -1 -1 -1  1 -1 -1 -1 -1 -1 -1 -1 -1\n",
        "-1 -1 -1 -1 -1 -1 -1 -1 -1 -1 -1 -1 -1 -1 -1 -1 -1 -1  1 -1 -1 -1 -1 -1 -1 -1\n",
        "-1 -1 -1 -1 -1 -1 -1 -1 -1 -1 -1 -1 -1 -1 -1 -1 -1 -1 -1  1 -1 -1 -1 -1 -1 -1\n",
        "-1 -1 -1 -1 -1 -1 -1 -1 -1 -1 -1 -1 -1 -1 -1 -1 -1 -1 -1 -1  1 -1 -1 -1 -1 -1\n",
        "-1 -1 -1 -1 -1 -1 -1 -1 -1 -1 -1 -1 -1 -1 -1 -1 -1 -1 -1 -1 -1  1 -1 -1 -1 -1\n",
        "-1 -1 -1 -1 -1 -1 -1 -1 -1 -1 -1 -1 -1 -1 -1 -1 -1 -1 -1 -1 -1 -1  1 -1 -1 -1\n",
        "-1 -1 -1 -1 -1 -1 -1 -1 -1 -1 -1 -1 -1 -1 -1 -1 -1 -1 -1 -1 -1 -1 -1  1 -1 -1\n",
        "-1 -1 -1 -1 -1 -1 -1 -1 -1 -1 -1 -1 -1 -1 -1 -1 -1 -1 -1 -1 -1 -1 -1 -1  1 -1\n",
        "-1 -1 -1 -1 -1 -1 -1 -1 -1 -1 -1 -1 -1 -1 -1 -1 -1 -1 -1 -1 -1 -1 -1 -1 -1  1\n",
        " 1 -1 -1 -1 -1 -1 -1 -1 -1 -1 -1 -1 -1 -1 -1 -1 -1 -1 -1 -1 -1 -1 -1 -1 -1 -1\n",
        "[torch.DoubleTensor of dimension 27x26]\n",
        "\n"
       ]
      }
     ],
     "prompt_number": 4
    },
    {
     "cell_type": "code",
     "collapsed": false,
     "input": [
      "torch.save('weight2.dat', w)"
     ],
     "language": "python",
     "metadata": {},
     "outputs": [
      {
       "metadata": {},
       "output_type": "pyout",
       "prompt_number": 7,
       "text": [
        "\n"
       ]
      }
     ],
     "prompt_number": 7
    },
    {
     "cell_type": "code",
     "collapsed": false,
     "input": [
      "print(trainData.data:size(2))"
     ],
     "language": "python",
     "metadata": {},
     "outputs": [
      {
       "metadata": {},
       "output_type": "pyout",
       "prompt_number": 14,
       "text": [
        "26\t\n"
       ]
      }
     ],
     "prompt_number": 14
    },
    {
     "cell_type": "code",
     "collapsed": false,
     "input": [],
     "language": "python",
     "metadata": {},
     "outputs": []
    }
   ],
   "metadata": {}
  }
 ]
}