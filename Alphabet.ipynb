{
 "metadata": {
  "language": "lua",
  "name": "",
  "signature": "sha256:a25abd866d65e51dee2df33b80ca628a48fe721500dfb97dabf3f45ca1423437"
 },
 "nbformat": 3,
 "nbformat_minor": 0,
 "worksheets": [
  {
   "cells": [
    {
     "cell_type": "code",
     "collapsed": false,
     "input": [
      "--Train Program\n",
      "require 'torch'\n",
      "alpha = 1\n",
      "theta = 0.2\n",
      "loaded = torch.load('data.dat')\n",
      "trainData = {\n",
      "    data = loaded.x ,\n",
      "    label = loaded.y ,\n",
      "    size = function() return (#trainData.data) end\n",
      "}\n",
      "\n",
      "epoch = 0\n",
      "\n",
      "m = trainData.size()     --Number of train data\n",
      "n = trainData.data[1]:size(1)    --Number of features\n",
      "k = trainData.label[1]:size(1)   --Number of Outputs\n",
      "\n",
      "w = torch.Tensor(n, k):fill(0)    --matrix of weights\n",
      "out = torch.Tensor(m,k):fill(0)   --output matrix\n",
      "delta_w = torch.Tensor(n, k):fill(0)    --difference of weights\n",
      "\n",
      "flaq = true\n",
      "\n",
      "function normal() do\n",
      "    for i = 1, m do\n",
      "        for j = 1, k do\n",
      "            for l = 1, n do\n",
      "                out[i][j] = out[i][j] + (trainData.data[i][l] * w[l][j])\n",
      "            end\n",
      "        end\n",
      "    end\n",
      "    for i = 1, m do\n",
      "        for j = 1, k do\n",
      "            if out[i][j] > theta then\n",
      "                out[i][j] = 1\n",
      "            elseif out[i][j] <= -theta then\n",
      "                out[i][j] = -1\n",
      "            else\n",
      "                out[i][j] = 0\n",
      "            end\n",
      "        end\n",
      "    end\n",
      "end\n",
      "end\n",
      "\n",
      "temp = 0\n",
      "\n",
      "while flaq do\n",
      "    for f = 1, m do    --loop for Number of train data\n",
      "        normal()\n",
      "        for i = 1, n do    --loop for Number of Features\n",
      "                for j = 1, k do   --lopp for Number of outputs\n",
      "                    if out[f][j] ~= trainData.label[f][j] then\n",
      "                        temp = w[i][j] + (alpha * (trainData.data[f][i] * trainData.label[f][j]))\n",
      "                        delta_w[i][j] = temp - w[i][j]\n",
      "                        w[i][j] = temp\n",
      "                    else\n",
      "                      delta_w[i][j] = 0\n",
      "                    end\n",
      "                end\n",
      "        end\n",
      "    end\n",
      "    s = torch.sum(delta_w)\n",
      "    if s == 0 then\n",
      "        flaq = false\n",
      "    end\n",
      "    epoch = epoch + 1\n",
      "    print(epoch)\n",
      "end\n",
      "\n",
      "print(w)"
     ],
     "language": "python",
     "metadata": {},
     "outputs": [
      {
       "metadata": {},
       "output_type": "pyout",
       "prompt_number": 9,
       "text": [
        "1\t\n"
       ]
      },
      {
       "metadata": {},
       "output_type": "pyout",
       "prompt_number": 9,
       "text": [
        "2\t\n"
       ]
      },
      {
       "metadata": {},
       "output_type": "pyout",
       "prompt_number": 9,
       "text": [
        "3\t\n"
       ]
      },
      {
       "metadata": {},
       "output_type": "pyout",
       "prompt_number": 9,
       "text": [
        "4\t\n"
       ]
      },
      {
       "metadata": {},
       "output_type": "pyout",
       "prompt_number": 9,
       "text": [
        "-4 -4 -6 -4 -6 -7 -4 -6 -7 -4 -4 -6 -4 -4 -8 -6 -4 -6 -3 -4 -7 -7 -5 -7 -5 -5\n",
        " 0  2 -2  2  2 -1 -2  0 -3 -2  0 -2  0  0 -2  0 -2  0  1  0 -1  1  1 -1  1  1\n",
        " 0  2  2  2  0  3  0  2  1 -2 -2  2  0  2  2  6  0  4  1  4 -1  1  1  1  1  1\n",
        " 0 -2 -2  0  0  1 -2  0  1 -4 -4 -2 -2  0  0  0 -2  0 -1  2 -3 -1 -1 -3 -3 -1\n",
        " 0  2  2  0  4  3  2  0 -3  2  2 -2  0  2  0  4  0  0  1  4 -1 -3 -1  1  1  3\n",
        " 2  0  4 -4  2  1 -4  0 -3 -4 -2 -2 -2 -2 -2 -2 -2 -2 -1 -2  1  1 -1 -3 -1  1\n",
        " 0  0  0 -2  0  1  0 -2 -1 -2  0  0  0  0  0  0  0  0  1 -2 -1 -3  1 -3 -1 -1\n",
        " 2  2  2  0  2  3  2 -2  1  0  2  2  2  4  0  2  2  2  1  0 -1  5  1  3  3 -1\n",
        " 2  2  2  2  4  1  2  2  5  0  4  2  2  4  6  4  2  2  1  4  3  1  5  3  1  3\n",
        " 0  0  2  2  2  1  0  0 -1  4  0  2  4  0  0  2  2  4  1  0  1  5 -1  1  3  3\n",
        " 0  4  2  2  2  1  2  2  3  2  2  2  2  2  2  0  2  2  1  2  3  1  1  1  1  1\n",
        " 0  0  0  0  0  1  0  0 -1  0  0  0  0  0  0  0  0  0  1  0 -1 -1 -1 -1 -1 -1\n",
        " 2  0 -4 -2  2  1 -2  0 -3  0  0  0  0 -2  0  0  0  0  1 -2 -1  1  1 -1 -3 -1\n",
        " 0 -2 -4 -4  0 -1  0 -2 -1 -6 -4 -4 -2  0 -4 -2 -2  0 -1 -2 -5 -7 -1 -5  1 -1\n",
        " 2  0 -2 -4  2  3  0  2 -1  0  0  0  0 -2  2  0  2 -2  1 -2  1  3  1 -1 -3 -1\n",
        " 0  2  0  4  2  5  4  4  3  2  2  4  2  2  0  2  0  0  3  2  3  3  1  1  1  1\n",
        " 0  0  0  0  2  3  2  0 -1  0  0  0  0  0  0  0  0  0 -3  0 -1 -1 -1 -1 -1 -1\n",
        " 2  2  2  0  2  3  2  0  1  2  2  2  2  0  2  2  2  2  1  0  3 -1  3  3  1  3\n",
        " 2  2  2  0  4  1  2  2  5  0  2  2  2  4  0  4  4  6  1  2  3  5  5  3  5  3\n",
        " 2  2  2  2  2  3  0  2  1  4  2  2  0  4  2 -2  2  0  1  0  1  1  3  5  1 -1\n",
        " 0  4  2  2 -2 -1  4  2  3  2  2  2  2  2  2  0  2  2  5  2  3  1  1  1  1  1\n",
        " 0  2 -2  4  4  3  0  2  1  2  2  0  2  2  0  2  0  2  3  2 -3  1  1  3 -1  3\n",
        " 2  0  0  2  2 -3  0  0  1 -2  0  2  0 -2  2  2  0 -2  1  0  3  1  1 -1  1  1\n",
        "-4  2  0  2  2 -3  0  0  3  2  0  2  0  0  2 -2  0  0  1  0  3  1  1 -1  3  1\n",
        " 4  2  0 -2  4 -1  2 -2 -1  0  0  0  0 -2 -2 -4  2  2  1  0  3 -1  1 -1  1  3\n",
        " 2  0  4  0  2 -3  2  2  1  0  0  2  0  0  0  0  0  0  1  0 -1  1 -1  1 -3  3\n",
        "[torch.DoubleTensor of dimension 26x26]\n",
        "\n"
       ]
      }
     ],
     "prompt_number": 9
    },
    {
     "cell_type": "code",
     "collapsed": false,
     "input": [
      "o = torch.Tensor(m,k):fill(0)\n",
      "for i = 1, m do\n",
      "    for j = 1, k do\n",
      "        for l = 1, n do\n",
      "            o[i][j] = o[i][j] + (trainData.data[i][l] * w[l][j])\n",
      "        end\n",
      "    end\n",
      "end\n",
      "for i = 1, m do\n",
      "    for j = 1, k do\n",
      "        if o[i][j] > theta then\n",
      "            o[i][j] = 1\n",
      "        elseif o[i][j] <= -theta then\n",
      "            o[i][j] = -1\n",
      "        else\n",
      "            o[i][j] = 0\n",
      "        end\n",
      "    end\n",
      "end\n",
      "print(o[23])"
     ],
     "language": "python",
     "metadata": {},
     "outputs": [
      {
       "metadata": {},
       "output_type": "pyout",
       "prompt_number": 23,
       "text": [
        "-1\n",
        "-1\n",
        "-1\n",
        "-1\n",
        "-1\n",
        "-1\n",
        "-1\n",
        "-1\n",
        "-1\n",
        "-1\n",
        "-1\n",
        "-1\n",
        "-1\n",
        "-1\n",
        "-1\n",
        "-1\n",
        "-1\n",
        "-1\n",
        "-1\n",
        "-1\n",
        "-1\n",
        "-1\n",
        " 1\n",
        "-1\n",
        "-1\n",
        "-1\n",
        "[torch.DoubleTensor of dimension 26]\n",
        "\n"
       ]
      }
     ],
     "prompt_number": 23
    },
    {
     "cell_type": "code",
     "collapsed": false,
     "input": [
      "torch.save('weight2.dat', w)"
     ],
     "language": "python",
     "metadata": {},
     "outputs": [
      {
       "metadata": {},
       "output_type": "pyout",
       "prompt_number": 7,
       "text": [
        "\n"
       ]
      }
     ],
     "prompt_number": 7
    },
    {
     "cell_type": "code",
     "collapsed": false,
     "input": [],
     "language": "python",
     "metadata": {},
     "outputs": []
    }
   ],
   "metadata": {}
  }
 ]
}